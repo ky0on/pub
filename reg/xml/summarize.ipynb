{
 "cells": [
  {
   "cell_type": "code",
   "execution_count": null,
   "metadata": {},
   "outputs": [],
   "source": [
    "import os\n",
    "import json\n",
    "import glob\n",
    "import xmltodict"
   ]
  },
  {
   "cell_type": "code",
   "execution_count": null,
   "metadata": {},
   "outputs": [],
   "source": [
    "#\n",
    "# LWM2M Objects\n",
    "#\n",
    "\n",
    "for cnt in range(22):\n",
    "    \n",
    "    xmlfile = f'{cnt}.xml'\n",
    "    if not os.path.exists(xmlfile):\n",
    "        print(f'{xmlfile}\\t-\\t\\t-')\n",
    "        continue\n",
    "    \n",
    "    with open(xmlfile, 'r') as fp:\n",
    "        xml = fp.read()\n",
    "    dic = xmltodict.parse(xml)\n",
    "\n",
    "    object = dic['LWM2M']['Object']\n",
    "    objectid = object['ObjectID']\n",
    "    name = object['Name']\n",
    "    mandatory = object['Mandatory']\n",
    "    print(f'{objectid}\\t{mandatory}\\t{name}')\n",
    "    \n",
    "    #save as json\n",
    "    outjson = f'output/{cnt}.json'\n",
    "    with open(outjson, 'w') as fp:\n",
    "        json.dump(dic, fp, indent=2)"
   ]
  },
  {
   "cell_type": "code",
   "execution_count": null,
   "metadata": {
    "scrolled": false
   },
   "outputs": [],
   "source": [
    "#\n",
    "# Objects Produced by\n",
    "# 3rd party Standards Development Organizations\n",
    "#\n",
    "\n",
    "for xmlfile in glob.glob('*.xml'):\n",
    "    \n",
    "    with open(xmlfile, 'r') as fp:\n",
    "        xml = fp.read()\n",
    "    dic = xmltodict.parse(xml)\n",
    "\n",
    "    object = dic['LWM2M']['Object']\n",
    "    objectid = object['ObjectID']\n",
    "    name = object['Name']\n",
    "    mandatory = object['Mandatory']\n",
    "    \n",
    "    if int(objectid) < 22:\n",
    "        continue\n",
    "        \n",
    "    print(f'{objectid}\\t{mandatory}\\t{name}')\n",
    "    \n",
    "    #save as json\n",
    "#     outjson = f'output/{cnt}.json'\n",
    "#     with open(outjson, 'w') as fp:\n",
    "#         json.dump(dic, fp, indent=2)"
   ]
  },
  {
   "cell_type": "code",
   "execution_count": null,
   "metadata": {
    "scrolled": true
   },
   "outputs": [],
   "source": [
    "#\n",
    "# Search resource name\n",
    "#\n",
    "\n",
    "keyword = 'device'\n",
    "\n",
    "for xmlfile in glob.glob('*.xml'):\n",
    "    \n",
    "    with open(xmlfile, 'r') as fp:\n",
    "        xml = fp.read()\n",
    "    dic = xmltodict.parse(xml)\n",
    "\n",
    "    object = dic['LWM2M']['Object']\n",
    "    object_id = object['ObjectID']\n",
    "    object_name = object['Name']\n",
    "    object_mandatory = object['Mandatory']\n",
    "    \n",
    "    #resources\n",
    "    for resource in object['Resources']['Item']:\n",
    "        resource_id = resource['@ID']\n",
    "        resource_name = resource['Name']\n",
    "        resource_mandatory = resource['Mandatory']\n",
    "        \n",
    "        if keyword.lower() in resource_name.lower():\n",
    "            print(f'{object_name} -> {resource_name} ({object_id},{resource_id})')"
   ]
  },
  {
   "cell_type": "code",
   "execution_count": null,
   "metadata": {},
   "outputs": [],
   "source": [
    "#\n",
    "# for Hitachi SN\n",
    "#\n",
    "\n",
    "\n",
    "for objectid in [0, 1, 3, 4]:\n",
    "    \n",
    "    xmlfile = f'{objectid}.xml'\n",
    "    \n",
    "    with open(xmlfile, 'r') as fp:\n",
    "        xml = fp.read()\n",
    "    dic = xmltodict.parse(xml)\n",
    "\n",
    "    object = dic['LWM2M']['Object']\n",
    "    object_name = object['Name']\n",
    "    object_mandatory = object['Mandatory']\n",
    "    print(f'\\n{object_name} ({objectid}) - {object_mandatory}')\n",
    "    \n",
    "    #resources\n",
    "    for resource in object['Resources']['Item']:\n",
    "        resource_name = resource['Name']\n",
    "        resource_mandatory = resource['Mandatory']\n",
    "        print(f'  {resource_name} - {resource_mandatory}')\n",
    "    \n",
    "    #save as json\n",
    "#     outjson = f'output/{cnt}.json'\n",
    "#     with open(outjson, 'w') as fp:\n",
    "#         json.dump(dic, fp, indent=2)"
   ]
  }
 ],
 "metadata": {
  "kernelspec": {
   "display_name": "Python 3",
   "language": "python",
   "name": "python3"
  },
  "language_info": {
   "codemirror_mode": {
    "name": "ipython",
    "version": 3
   },
   "file_extension": ".py",
   "mimetype": "text/x-python",
   "name": "python",
   "nbconvert_exporter": "python",
   "pygments_lexer": "ipython3",
   "version": "3.6.4"
  },
  "toc": {
   "nav_menu": {},
   "number_sections": true,
   "sideBar": true,
   "skip_h1_title": false,
   "toc_cell": false,
   "toc_position": {},
   "toc_section_display": "block",
   "toc_window_display": false
  }
 },
 "nbformat": 4,
 "nbformat_minor": 2
}
